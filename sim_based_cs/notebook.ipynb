{
 "cells": [
  {
   "cell_type": "markdown",
   "metadata": {},
   "source": [
    "# Similarity-Based Constraint Score For Feature Selection Notebook\n",
    "\n",
    "In this notebook, you will find a comprehensive summary of the project, detailing key steps undertaken and presenting results obtained during the implementation of our innovative constraint score.\n",
    "\n"
   ]
  },
  {
   "cell_type": "markdown",
   "metadata": {},
   "source": [
    "## Part 1: Contraint score 4\n",
    "Firstly we would like to implement the contraints score 4: $ \\begin{equation}\n",
    "SC^4_r = \\frac{\\tilde{f_r}^TL\\tilde{f_r}}{\\tilde{f_r}^TD\\tilde{f_r}}*\\frac{{f_r}^TL^\\mathcal{M}f_r}{{f_r}^TL^\\mathcal{C}f_r} = SL_r*SC_r\n",
    "\\end{equation} $\n",
    "And see if our results correspond to the outcomes in the thesis by Maryam Kalakesh on the wine dataset."
   ]
  },
  {
   "cell_type": "code",
   "execution_count": 102,
   "metadata": {},
   "outputs": [
    {
     "name": "stdout",
     "output_type": "stream",
     "text": [
      "/Users/fabiogadegbeku/Desktop/M1_DS/projet_recherche/Similarity-Based-CS\n"
     ]
    },
    {
     "name": "stderr",
     "output_type": "stream",
     "text": [
      "/Users/fabiogadegbeku/Desktop/M1_DS/projet_recherche/Similarity-Based-CS/.venv/lib/python3.11/site-packages/IPython/core/magics/osm.py:417: UserWarning: using dhist requires you to install the `pickleshare` library.\n",
      "  self.shell.db['dhist'] = compress_dhist(dhist)[-100:]\n"
     ]
    }
   ],
   "source": [
    "%cd /Users/fabiogadegbeku/Desktop/M1_DS/projet_recherche/Similarity-Based-CS\n",
    "import numpy as np\n",
    "import pandas as pd\n",
    "import sklearn.datasets as skd"
   ]
  },
  {
   "cell_type": "code",
   "execution_count": 103,
   "metadata": {},
   "outputs": [
    {
     "data": {
      "text/plain": [
       "(178, 13)"
      ]
     },
     "execution_count": 103,
     "metadata": {},
     "output_type": "execute_result"
    }
   ],
   "source": [
    "from c_scores import laplacian_score\n",
    "X = skd.load_wine()\n",
    "X_wine = X.data\n",
    "laplacian_score(X_wine) ## Compute the Laplacian Score for features of the wine dataset\n",
    "X_wine.shape"
   ]
  },
  {
   "cell_type": "code",
   "execution_count": 104,
   "metadata": {},
   "outputs": [
    {
     "data": {
      "text/plain": [
       "array([[1., 1., 1., ..., 0., 0., 0.],\n",
       "       [1., 1., 1., ..., 0., 0., 0.],\n",
       "       [1., 1., 1., ..., 0., 0., 0.],\n",
       "       ...,\n",
       "       [0., 0., 0., ..., 1., 1., 1.],\n",
       "       [0., 0., 0., ..., 1., 1., 1.],\n",
       "       [0., 0., 0., ..., 1., 1., 1.]])"
      ]
     },
     "execution_count": 104,
     "metadata": {},
     "output_type": "execute_result"
    }
   ],
   "source": [
    "from c_scores import get_constraints\n",
    "X_target = X.target[np.newaxis].T\n",
    "get_constraints(X_target)[0]"
   ]
  },
  {
   "cell_type": "code",
   "execution_count": 105,
   "metadata": {},
   "outputs": [],
   "source": [
    "## Generate random constraints for the wine dataset\n",
    "from c_scores import generate_constraints\n",
    "X_target_constraint= generate_constraints(X_target, 60)[np.newaxis].T"
   ]
  },
  {
   "cell_type": "code",
   "execution_count": 106,
   "metadata": {},
   "outputs": [
    {
     "data": {
      "text/plain": [
       "array([12,  4,  6,  9,  3, 11, 10,  5,  0,  2,  1,  8,  7])"
      ]
     },
     "execution_count": 106,
     "metadata": {},
     "output_type": "execute_result"
    }
   ],
   "source": [
    "##compute the constraint score for the wine dataset\n",
    "from c_scores import constraint_score_1\n",
    "X_wine = X.data\n",
    "constraint_score_4 = laplacian_score(X_wine)*constraint_score_1(X_wine,X_target)\n",
    "## The ranks of the features according to the constraint score are stored in the variable features\n",
    "features = np.argsort(constraint_score_4)\n",
    "features"
   ]
  },
  {
   "cell_type": "code",
   "execution_count": 107,
   "metadata": {},
   "outputs": [],
   "source": [
    "# ##plot the scores for how many features are kept based on there constraint scores.\n",
    "from sklearn.model_selection import train_test_split\n",
    "from sklearn.neighbors import KNeighborsClassifier as Knn\n",
    "import matplotlib.pyplot as plt\n",
    "# n = 14\n",
    "# Accuracy = []\n",
    "# knn = Knn(n_neighbors=1)\n",
    "# for i in range(1,n):\n",
    "#     X_wine = np.concatenate((X.data,X.target[np.newaxis].T), axis=1)\n",
    "#     X_wine = np.delete(X_wine, features[i:], axis=1)\n",
    "#     X_wine_train , X_wine_test = train_test_split(X_wine, test_size=0.4)  ## REDO the repartition of the data\n",
    "#     y_train = X_wine_train[:,-1]\n",
    "#     y_test = X_wine_test[:,-1]\n",
    "#     X_wine_train = np.delete(X_wine_train, -1, axis=1)\n",
    "#     X_wine_test = np.delete(X_wine_test, -1, axis=1)\n",
    "#     knn.fit(X_wine_train, y_train)\n",
    "#     y_pred = knn.predict(X_wine_test)\n",
    "#     Accuracy.append(np.mean(y_pred == y_test))\n",
    "\n",
    "# plt.plot(range(1,n),Accuracy)\n",
    "# plt.xlabel('Number of features')\n",
    "# plt.ylabel('Accuracy')\n",
    "# plt.title('Accuracy vs Number of features')\n",
    "# plt.show()\n",
    "\n"
   ]
  },
  {
   "cell_type": "code",
   "execution_count": 108,
   "metadata": {},
   "outputs": [
    {
     "name": "stdout",
     "output_type": "stream",
     "text": [
      "(142, 1) 1\n",
      "(142, 2) 2\n",
      "(142, 3) 3\n",
      "(142, 4) 4\n",
      "(142, 5) 5\n",
      "(142, 6) 6\n",
      "(142, 7) 7\n",
      "(142, 8) 8\n",
      "(142, 9) 9\n",
      "(142, 10) 10\n",
      "(142, 11) 11\n",
      "(142, 12) 12\n",
      "(142, 13) 13\n"
     ]
    },
    {
     "data": {
      "image/png": "[encoded data removed]",
      "text/plain": [
       "<Figure size 640x480 with 1 Axes>"
      ]
     },
     "metadata": {},
     "output_type": "display_data"
    }
   ],
   "source": [
    "n = 14\n",
    "Accuracy = []\n",
    "knn = Knn(n_neighbors=1)\n",
    "X_wine = np.concatenate((X.data,X.target[np.newaxis].T), axis=1)\n",
    "X_wine_train , X_wine_test = train_test_split(X_wine, test_size=0.2, random_state=42) ## Manually split the data the sameway\n",
    "y_train = X_wine_train[:,-1]\n",
    "y_test = X_wine_test[:,-1]\n",
    "X_wine_train = np.delete(X_wine_train, -1, axis=1)\n",
    "X_wine_test= np.delete(X_wine_test, -1, axis=1)\n",
    "\n",
    "for i in range(1,n): \n",
    "    X_wine_train_i = np.delete(X_wine_train, features[i:], axis=1)\n",
    "    X_wine_test_i = np.delete(X_wine_test, features[i:], axis=1)\n",
    "    knn.fit(X_wine_train_i, y_train)\n",
    "    y_pred = knn.predict(X_wine_test_i)\n",
    "    Accuracy.append(np.mean(y_pred == y_test))\n",
    "    print(X_wine_train_i.shape,i)\n",
    "\n",
    "plt.plot(range(1,n),Accuracy)\n",
    "plt.xlabel('Number of features')\n",
    "plt.ylabel('Accuracy')\n",
    "plt.title('Accuracy vs Number of features')\n",
    "plt.show()\n"
   ]
  },
  {
   "cell_type": "markdown",
   "metadata": {},
   "source": [
    "### Problem : we need to correctly split the data : \n",
    "78 données caractérisées par 13 attributs (n=178, d=13). Ces données sont divisées en 3 classes ayant pour effectif 59, 71 et 48 données. Nous sélectionnons 30, 36 et 24 données de chaque classe afin de constituer la base d’apprentissage."
   ]
  },
  {
   "cell_type": "code",
   "execution_count": 109,
   "metadata": {},
   "outputs": [],
   "source": [
    "target = X.target\n",
    "X_class_1 = target == 0\n",
    "X_class_2 = target == 1\n",
    "X_class_3 = target == 2\n",
    "\n",
    "# now we need 30 prototypes for the first class 36 for the second and 24 for the third\n",
    "X_class_1 = X.data[X_class_1]\n",
    "X_class_2 = X.data[X_class_2]\n",
    "X_class_3 = X.data[X_class_3]\n",
    "\n",
    "X_class_1 = X_class_1[:30]\n",
    "X_class_2 = X_class_2[:36]\n",
    "X_class_3 = X_class_3[:24]\n",
    "\n",
    "X_data_train_2 = np.concatenate((X_class_1,X_class_2,X_class_3), axis=0)\n",
    "X_target_train_2 = np.concatenate((np.zeros(30),np.ones(36),np.ones(24)*2), axis=0)\n",
    "# now we need to drop the prototypes from the data\n",
    "X_data = X.data\n",
    "X_data_test_2 = np.delete(X_data, np.concatenate((np.arange(30),np.arange(59,95),np.arange(131,155))), axis=0)\n",
    "X_target_test_2 = np.delete(X.target, np.concatenate((np.arange(30),np.arange(59,95),np.arange(131,155))), axis=0)\n",
    "\n",
    "\n",
    "#now we have our training and test data\n"
   ]
  },
  {
   "cell_type": "code",
   "execution_count": 110,
   "metadata": {},
   "outputs": [
    {
     "data": {
      "text/plain": [
       "array([12,  4,  5,  6, 10,  1,  3,  0,  2, 11,  9,  8,  7])"
      ]
     },
     "execution_count": 110,
     "metadata": {},
     "output_type": "execute_result"
    }
   ],
   "source": [
    "# We calculate the constraint score for the training data\n",
    "constraint_score_4 = laplacian_score(X_data_train_2)*constraint_score_1(X_data_train_2,X_target_train_2[np.newaxis].T)\n",
    "features = np.argsort(constraint_score_4)\n",
    "features"
   ]
  },
  {
   "cell_type": "code",
   "execution_count": 113,
   "metadata": {},
   "outputs": [
    {
     "name": "stdout",
     "output_type": "stream",
     "text": [
      "(88, 1) 1\n",
      "(88, 2) 2\n",
      "(88, 3) 3\n",
      "(88, 4) 4\n",
      "(88, 5) 5\n",
      "(88, 6) 6\n",
      "(88, 7) 7\n",
      "(88, 8) 8\n",
      "(88, 9) 9\n",
      "(88, 10) 10\n",
      "(88, 11) 11\n",
      "(88, 12) 12\n",
      "(88, 13) 13\n"
     ]
    },
    {
     "data": {
      "image/png": "[encoded data removed]",
      "text/plain": [
       "<Figure size 640x480 with 1 Axes>"
      ]
     },
     "metadata": {},
     "output_type": "display_data"
    }
   ],
   "source": [
    "n = 14\n",
    "Accuracy = []\n",
    "knn = Knn(n_neighbors=1)\n",
    "\n",
    "for i in range(1,n): \n",
    "    X_wine_train = np.delete(X_data_train_2, features[i:], axis=1)\n",
    "    X_wine_test = np.delete(X_data_test_2, features[i:], axis=1)\n",
    "    y_train = X_target_train_2\n",
    "    y_test = X_target_test_2\n",
    "    knn.fit(X_wine_train, y_train)\n",
    "    y_pred = knn.predict(X_wine_test)\n",
    "    Accuracy.append(np.mean(y_pred == y_test))\n",
    "    print(X_wine_test.shape,i)\n",
    "\n",
    "plt.plot(range(1,n),Accuracy)\n",
    "plt.xlabel('Number of features')\n",
    "plt.ylabel('Accuracy')\n",
    "plt.title('Accuracy vs Number of features')\n",
    "plt.show()\n",
    "\n"
   ]
  }
 ],
 "metadata": {
  "kernelspec": {
   "display_name": ".venv",
   "language": "python",
   "name": "python3"
  },
  "language_info": {
   "codemirror_mode": {
    "name": "ipython",
    "version": 3
   },
   "file_extension": ".py",
   "mimetype": "text/x-python",
   "name": "python",
   "nbconvert_exporter": "python",
   "pygments_lexer": "ipython3",
   "version": "3.11.4"
  }
 },
 "nbformat": 4,
 "nbformat_minor": 2
}
