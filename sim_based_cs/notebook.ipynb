{
 "cells": [
  {
   "cell_type": "markdown",
   "metadata": {},
   "source": [
    "# Similarity-Based Constraint Score For Feature Selection Notebook\n",
    "\n",
    "In this notebook, you will find a comprehensive summary of the project, detailing key steps undertaken and presenting results obtained during the implementation of our innovative constraint score.\n",
    "\n"
   ]
  },
  {
   "cell_type": "markdown",
   "metadata": {},
   "source": [
    "## Part 1: Contraint score 4\n",
    "Firstly we would like to implement the contraints score 4: $ \\begin{equation}\n",
    "SC^4_r = \\frac{\\tilde{f_r}^TL\\tilde{f_r}}{\\tilde{f_r}^TD\\tilde{f_r}}*\\frac{{f_r}^TL^\\mathcal{M}f_r}{{f_r}^TL^\\mathcal{C}f_r} = SL_r*SC_r\n",
    "\\end{equation} $\n",
    "And see if our results correspond to the outcomes in the thesis by Maryam Kalakesh on the wine dataset."
   ]
  },
  {
   "cell_type": "code",
   "execution_count": 2,
   "metadata": {},
   "outputs": [
    {
     "name": "stderr",
     "output_type": "stream",
     "text": [
      "/Users/fabiogadegbeku/Desktop/M1_DS/projet_recherche/Similarity-Based-CS/.venv/lib/python3.11/site-packages/IPython/core/magics/osm.py:417: UserWarning: using dhist requires you to install the `pickleshare` library.\n",
      "  self.shell.db['dhist'] = compress_dhist(dhist)[-100:]\n"
     ]
    },
    {
     "name": "stdout",
     "output_type": "stream",
     "text": [
      "/Users/fabiogadegbeku/Desktop/M1_DS/projet_recherche/Similarity-Based-CS\n"
     ]
    }
   ],
   "source": [
    "%cd /Users/fabiogadegbeku/Desktop/M1_DS/projet_recherche/Similarity-Based-CS\n",
    "import numpy as np\n",
    "import pandas as pd\n",
    "import sklearn.datasets as skd\n",
    "from sklearn.preprocessing import StandardScaler\n",
    "from c_scores import *\n",
    "from sklearn.model_selection import train_test_split\n",
    "from sklearn.neighbors import KNeighborsClassifier as Knn\n",
    "import matplotlib.pyplot as plt"
   ]
  },
  {
   "cell_type": "code",
   "execution_count": 3,
   "metadata": {},
   "outputs": [],
   "source": [
    "# Loding the wine data\n",
    "X = skd.load_wine()\n",
    "X_wine = X.data\n",
    "X_target = X.target[np.newaxis].T"
   ]
  },
  {
   "cell_type": "markdown",
   "metadata": {},
   "source": [
    "### To reproduce the experiments in the same conditions we need to partition the data and normalize them :\n",
    "178 samples characterized by 13 features (n=178, d=13). These samples are divided into 3 classes with 59, 71, and 48 instances respectively. We select 30, 36, and 24 instances from each class to constitute the training set. And generating 10 constraints\n"
   ]
  },
  {
   "cell_type": "code",
   "execution_count": 4,
   "metadata": {},
   "outputs": [],
   "source": [
    "wine_db = np.concatenate((X_wine,X_target), axis=1)\n",
    "np.random.shuffle(wine_db)\n",
    "target = wine_db[:,-1]\n",
    "data = wine_db[:,:-1]\n",
    "X_class_1 = target == 0\n",
    "X_class_2 = target == 1\n",
    "X_class_3 = target == 2\n",
    "# now we need 30 prototypes for the first class 36 for the second and 24 for the third\n",
    "X_class_1 = data[X_class_1]\n",
    "X_class_2 = data[X_class_2]\n",
    "X_class_3 = data[X_class_3]\n",
    "\n",
    "X_class_1 = X_class_1[:30]\n",
    "X_class_2 = X_class_2[:36]\n",
    "X_class_3 = X_class_3[:24]\n",
    "\n",
    "X_data_train_2 = np.concatenate((X_class_1,X_class_2,X_class_3), axis=0)\n",
    "X_target_train_2 = np.concatenate((np.zeros(30),np.ones(36),np.ones(24)*2), axis=0)\n",
    "# now we need to drop the prototypes from the data\n",
    "X_data_test_2 = np.delete(data, np.concatenate((np.arange(30),np.arange(59,95),np.arange(131,155))), axis=0)\n",
    "X_target_test_2 = np.delete(target, np.concatenate((np.arange(30),np.arange(59,95),np.arange(131,155))), axis=0)\n",
    "\n",
    "\n",
    "#now we have our training and test data\n"
   ]
  },
  {
   "cell_type": "code",
   "execution_count": 5,
   "metadata": {},
   "outputs": [
    {
     "data": {
      "text/plain": [
       "array([12,  4,  0,  3, 11,  2, 10,  9,  5,  6,  8,  1,  7])"
      ]
     },
     "execution_count": 5,
     "metadata": {},
     "output_type": "execute_result"
    }
   ],
   "source": [
    "# We calculate the constraint score 4 for the training data with 10 constraints\n",
    "X_target_train_2_constraints= generate_constraints(X_data_train_2,10)\n",
    "constraint_score_4 = laplacian_score(X_data_train_2)*constraint_score_1(X_data_train_2,X_target_train_2[np.newaxis].T)\n",
    "features = np.argsort(constraint_score_4)\n",
    "features"
   ]
  },
  {
   "cell_type": "code",
   "execution_count": 6,
   "metadata": {},
   "outputs": [
    {
     "data": {
      "image/png": "[encoded data removed]",
      "text/plain": [
       "<Figure size 640x480 with 1 Axes>"
      ]
     },
     "metadata": {},
     "output_type": "display_data"
    }
   ],
   "source": [
    "from sklearn.preprocessing import StandardScaler\n",
    "n = 14\n",
    "rep = 100\n",
    "knn = Knn(n_neighbors=1)\n",
    "all_accuracy = np.zeros((rep,n-1))\n",
    "for j in range(rep):\n",
    "    X_target_train_2_constraints= generate_constraints(X_data_train_2,10)\n",
    "    constraint_score_4 = laplacian_score(X_data_train_2)*constraint_score_1(X_data_train_2,X_target_train_2[np.newaxis].T)\n",
    "    features = np.argsort(constraint_score_4)\n",
    "    features\n",
    "    Accuracy = np.zeros(n-1)\n",
    "    for i in range(1,n):\n",
    "        X_wine_train = np.delete(X_data_train_2, features[i:], axis=1)\n",
    "        X_wine_test = np.delete(X_data_test_2, features[i:], axis=1)\n",
    "        y_train = X_target_train_2\n",
    "        y_test = X_target_test_2\n",
    "        scaler = StandardScaler()\n",
    "        scaler.fit(X_wine_train)\n",
    "        X_wine_train = scaler.transform(X_wine_train)\n",
    "        X_wine_test = scaler.transform(X_wine_test)\n",
    "        knn.fit(X_wine_train, y_train)\n",
    "        y_pred = knn.predict(X_wine_test)\n",
    "        Accuracy[i-1] = np.mean(y_pred == y_test)\n",
    "    all_accuracy[j,:] = Accuracy\n",
    "\n",
    "plt.plot(range(1,n), np.mean(all_accuracy, axis=0))\n",
    "plt.xlabel('Number of features')\n",
    "new_y_ticks = np.arange(0.7, 1, 0.1)\n",
    "plt.ylabel('Accuracy')\n",
    "plt.title('Accuracy vs Number of features')\n",
    "plt.yticks(new_y_ticks)\n",
    "plt.show()"
   ]
  },
  {
   "cell_type": "code",
   "execution_count": 7,
   "metadata": {},
   "outputs": [
    {
     "data": {
      "text/plain": [
       "array([0.50661974, 0.50661974, 0.50661974])"
      ]
     },
     "execution_count": 7,
     "metadata": {},
     "output_type": "execute_result"
    }
   ],
   "source": [
    "A = np.eye(3)\n",
    "laplacian_score(A)"
   ]
  }
 ],
 "metadata": {
  "kernelspec": {
   "display_name": ".venv",
   "language": "python",
   "name": "python3"
  },
  "language_info": {
   "codemirror_mode": {
    "name": "ipython",
    "version": 3
   },
   "file_extension": ".py",
   "mimetype": "text/x-python",
   "name": "python",
   "nbconvert_exporter": "python",
   "pygments_lexer": "ipython3",
   "version": "3.11.4"
  }
 },
 "nbformat": 4,
 "nbformat_minor": 2
}
